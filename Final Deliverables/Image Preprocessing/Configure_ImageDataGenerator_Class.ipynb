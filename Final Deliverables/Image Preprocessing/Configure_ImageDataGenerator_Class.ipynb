{
 "cells": [
  {
   "cell_type": "markdown",
   "id": "8d0f6679",
   "metadata": {},
   "source": [
    "## Importing ImageDataGenerator "
   ]
  },
  {
   "cell_type": "code",
   "execution_count": 1,
   "id": "a563c110",
   "metadata": {},
   "outputs": [],
   "source": [
    "from keras.preprocessing.image import ImageDataGenerator"
   ]
  },
  {
   "cell_type": "markdown",
   "id": "4dc475ac",
   "metadata": {},
   "source": [
    "## Image Data Augmentation"
   ]
  },
  {
   "cell_type": "markdown",
   "id": "770e3b88",
   "metadata": {},
   "source": [
    "##### Configuring image Data Generator Class\n",
    " "
   ]
  },
  {
   "cell_type": "markdown",
   "id": "100e684b",
   "metadata": {},
   "source": [
    "###### Setting Parameter for Image Augmentation for training data "
   ]
  },
  {
   "cell_type": "code",
   "execution_count": 2,
   "id": "619dfeb0",
   "metadata": {},
   "outputs": [],
   "source": [
    "train_datagen = ImageDataGenerator(rescale = 1./255, shear_range = 0.2, zoom_range = 0.2, horizontal_flip = True)"
   ]
  },
  {
   "cell_type": "markdown",
   "id": "b02fb37a",
   "metadata": {},
   "source": [
    "##### Image Data Augmentation for testing data "
   ]
  },
  {
   "cell_type": "code",
   "execution_count": 3,
   "id": "961bbb78",
   "metadata": {},
   "outputs": [],
   "source": [
    "test_datagen = ImageDataGenerator(rescale = 1./255)"
   ]
  }
 ],
 "metadata": {
  "kernelspec": {
   "display_name": "Python 3 (ipykernel)",
   "language": "python",
   "name": "python3"
  },
  "language_info": {
   "codemirror_mode": {
    "name": "ipython",
    "version": 3
   },
   "file_extension": ".py",
   "mimetype": "text/x-python",
   "name": "python",
   "nbconvert_exporter": "python",
   "pygments_lexer": "ipython3",
   "version": "3.10.6"
  }
 },
 "nbformat": 4,
 "nbformat_minor": 5
}
