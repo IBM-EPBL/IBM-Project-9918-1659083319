{
 "cells": [
  {
   "cell_type": "markdown",
   "id": "83e5f6f4",
   "metadata": {},
   "source": [
    "## Importing ImageDataGenerator "
   ]
  },
  {
   "cell_type": "code",
   "execution_count": 1,
   "id": "1fb46189",
   "metadata": {},
   "outputs": [],
   "source": [
    "from keras.preprocessing.image import ImageDataGenerator"
   ]
  },
  {
   "cell_type": "markdown",
   "id": "3b5e9824",
   "metadata": {},
   "source": [
    "## Image Data Augmentation"
   ]
  },
  {
   "cell_type": "markdown",
   "id": "b36024b8",
   "metadata": {},
   "source": [
    "##### Configuring image Data Generator Class\n",
    " "
   ]
  },
  {
   "cell_type": "markdown",
   "id": "4b54e8ba",
   "metadata": {},
   "source": [
    "###### Setting Parameter for Image Augmentation for training data "
   ]
  },
  {
   "cell_type": "code",
   "execution_count": 2,
   "id": "31e28d66",
   "metadata": {},
   "outputs": [],
   "source": [
    "train_datagen = ImageDataGenerator(rescale = 1./255, shear_range = 0.2, zoom_range = 0.2, horizontal_flip = True)"
   ]
  },
  {
   "cell_type": "markdown",
   "id": "99a16d96",
   "metadata": {},
   "source": [
    "##### Image Data Augmentation for testing data "
   ]
  },
  {
   "cell_type": "code",
   "execution_count": 3,
   "id": "a4220a4d",
   "metadata": {},
   "outputs": [],
   "source": [
    "test_datagen = ImageDataGenerator(rescale = 1./255)"
   ]
  },
  {
   "cell_type": "markdown",
   "id": "5945decd",
   "metadata": {},
   "source": [
    "## Applying ImageDataGenerator functionality "
   ]
  },
  {
   "cell_type": "markdown",
   "id": "6fea8d75",
   "metadata": {},
   "source": [
    "##### Performing data augmentation to train data "
   ]
  },
  {
   "cell_type": "code",
   "execution_count": 4,
   "id": "86799cca",
   "metadata": {},
   "outputs": [
    {
     "name": "stdout",
     "output_type": "stream",
     "text": [
      "Found 742 images belonging to 4 classes.\n"
     ]
    }
   ],
   "source": [
    "x_train = train_datagen.flow_from_directory('train_set', target_size = (64,64), batch_size = 5, color_mode = 'rgb', class_mode = 'categorical')\n"
   ]
  },
  {
   "cell_type": "markdown",
   "id": "157b9f22",
   "metadata": {},
   "source": [
    "##### Performing data augmentation to test data "
   ]
  },
  {
   "cell_type": "code",
   "execution_count": 5,
   "id": "c9ad5cf0",
   "metadata": {},
   "outputs": [
    {
     "name": "stdout",
     "output_type": "stream",
     "text": [
      "Found 198 images belonging to 4 classes.\n"
     ]
    }
   ],
   "source": [
    "x_test = test_datagen.flow_from_directory('test_set', target_size = (64,64), batch_size = 5, color_mode = 'rgb', class_mode = 'categorical')\n"
   ]
  },
  {
   "cell_type": "markdown",
   "id": "d7b4d3c7",
   "metadata": {},
   "source": [
    "## Importing libraries"
   ]
  },
  {
   "cell_type": "code",
   "execution_count": 6,
   "id": "6d8f25b9",
   "metadata": {},
   "outputs": [],
   "source": [
    "import numpy as np\n",
    "import tensorflow\n",
    "from tensorflow.keras.models import Sequential\n",
    "from tensorflow.keras.layers import Dense,Conv2D,MaxPooling2D,Flatten"
   ]
  },
  {
   "cell_type": "markdown",
   "id": "17bb8f64",
   "metadata": {},
   "source": [
    "### Initializing the model by adding CNN layers "
   ]
  },
  {
   "cell_type": "code",
   "execution_count": 7,
   "id": "748983b6",
   "metadata": {},
   "outputs": [],
   "source": [
    "model = Sequential()"
   ]
  },
  {
   "cell_type": "markdown",
   "id": "db198b01",
   "metadata": {},
   "source": [
    "### First convolution layer and pooling"
   ]
  },
  {
   "cell_type": "code",
   "execution_count": 8,
   "id": "e47fabe7",
   "metadata": {},
   "outputs": [],
   "source": [
    "model.add(Conv2D(32,(3,3),input_shape=(64,64,3),activation='relu'))\n",
    "model.add(MaxPooling2D(pool_size=(2,2)))"
   ]
  },
  {
   "cell_type": "markdown",
   "id": "7b89ab02",
   "metadata": {},
   "source": [
    "### Second convolution layer and pooling"
   ]
  },
  {
   "cell_type": "code",
   "execution_count": 9,
   "id": "a38d94d5",
   "metadata": {},
   "outputs": [],
   "source": [
    "model.add(Conv2D(32,(3,3),activation='relu'))\n",
    "model.add(MaxPooling2D(pool_size=(2,2)))"
   ]
  },
  {
   "cell_type": "markdown",
   "id": "245416f8",
   "metadata": {},
   "source": [
    "### Flattening the layers "
   ]
  },
  {
   "cell_type": "code",
   "execution_count": 10,
   "id": "08410062",
   "metadata": {},
   "outputs": [],
   "source": [
    "model.add(Flatten())"
   ]
  },
  {
   "cell_type": "markdown",
   "id": "f10a8fa7",
   "metadata": {},
   "source": [
    "### Adding dense layers "
   ]
  },
  {
   "cell_type": "code",
   "execution_count": 11,
   "id": "62c8f983",
   "metadata": {},
   "outputs": [],
   "source": [
    "model.add(Dense(units=128,activation='relu'))\n",
    "model.add(Dense(units=4,activation='softmax'))"
   ]
  },
  {
   "cell_type": "markdown",
   "id": "c5a55f2c",
   "metadata": {},
   "source": [
    "## Model summary "
   ]
  },
  {
   "cell_type": "code",
   "execution_count": 12,
   "id": "dfbd8361",
   "metadata": {},
   "outputs": [
    {
     "name": "stdout",
     "output_type": "stream",
     "text": [
      "Model: \"sequential\"\n",
      "_________________________________________________________________\n",
      " Layer (type)                Output Shape              Param #   \n",
      "=================================================================\n",
      " conv2d (Conv2D)             (None, 62, 62, 32)        896       \n",
      "                                                                 \n",
      " max_pooling2d (MaxPooling2D  (None, 31, 31, 32)       0         \n",
      " )                                                               \n",
      "                                                                 \n",
      " conv2d_1 (Conv2D)           (None, 29, 29, 32)        9248      \n",
      "                                                                 \n",
      " max_pooling2d_1 (MaxPooling  (None, 14, 14, 32)       0         \n",
      " 2D)                                                             \n",
      "                                                                 \n",
      " flatten (Flatten)           (None, 6272)              0         \n",
      "                                                                 \n",
      " dense (Dense)               (None, 128)               802944    \n",
      "                                                                 \n",
      " dense_1 (Dense)             (None, 4)                 516       \n",
      "                                                                 \n",
      "=================================================================\n",
      "Total params: 813,604\n",
      "Trainable params: 813,604\n",
      "Non-trainable params: 0\n",
      "_________________________________________________________________\n"
     ]
    }
   ],
   "source": [
    "model.summary()"
   ]
  },
  {
   "cell_type": "markdown",
   "id": "6a350ecd",
   "metadata": {},
   "source": [
    "## Compiling the model "
   ]
  },
  {
   "cell_type": "code",
   "execution_count": 13,
   "id": "11bbb2dd",
   "metadata": {},
   "outputs": [],
   "source": [
    "model.compile(optimizer='adam', loss='categorical_crossentropy', metrics=['accuracy'])"
   ]
  },
  {
   "cell_type": "markdown",
   "id": "fde96368",
   "metadata": {},
   "source": [
    "## Fitting the model"
   ]
  },
  {
   "cell_type": "code",
   "execution_count": 16,
   "id": "8c964a8e",
   "metadata": {},
   "outputs": [
    {
     "name": "stdout",
     "output_type": "stream",
     "text": [
      "Epoch 1/30\n"
     ]
    },
    {
     "name": "stderr",
     "output_type": "stream",
     "text": [
      "C:\\Users\\PRASANNA\\AppData\\Local\\Temp\\ipykernel_4192\\2997991227.py:1: UserWarning: `Model.fit_generator` is deprecated and will be removed in a future version. Please use `Model.fit`, which supports generators.\n",
      "  model.fit_generator(generator=x_train,steps_per_epoch=len(x_train),epochs=30,validation_data=x_test,validation_steps=len(x_test))\n"
     ]
    },
    {
     "name": "stdout",
     "output_type": "stream",
     "text": [
      "149/149 [==============================] - 31s 208ms/step - loss: 0.6120 - accuracy: 0.7682 - val_loss: 0.8483 - val_accuracy: 0.6970\n",
      "Epoch 2/30\n",
      "149/149 [==============================] - 31s 208ms/step - loss: 0.5159 - accuracy: 0.8005 - val_loss: 0.5709 - val_accuracy: 0.8081\n",
      "Epoch 3/30\n",
      "149/149 [==============================] - 31s 208ms/step - loss: 0.5206 - accuracy: 0.8127 - val_loss: 0.6643 - val_accuracy: 0.7879\n",
      "Epoch 4/30\n",
      "149/149 [==============================] - 32s 216ms/step - loss: 0.4427 - accuracy: 0.8275 - val_loss: 0.6834 - val_accuracy: 0.8232\n",
      "Epoch 5/30\n",
      "149/149 [==============================] - 39s 261ms/step - loss: 0.4479 - accuracy: 0.8194 - val_loss: 0.5802 - val_accuracy: 0.8081\n",
      "Epoch 6/30\n",
      "149/149 [==============================] - 35s 234ms/step - loss: 0.3998 - accuracy: 0.8518 - val_loss: 0.9664 - val_accuracy: 0.7424\n",
      "Epoch 7/30\n",
      "149/149 [==============================] - 32s 217ms/step - loss: 0.3399 - accuracy: 0.8787 - val_loss: 0.8769 - val_accuracy: 0.7576\n",
      "Epoch 8/30\n",
      "149/149 [==============================] - 30s 204ms/step - loss: 0.3431 - accuracy: 0.8733 - val_loss: 0.9808 - val_accuracy: 0.7273\n",
      "Epoch 9/30\n",
      "149/149 [==============================] - 31s 208ms/step - loss: 0.3465 - accuracy: 0.8706 - val_loss: 0.7816 - val_accuracy: 0.7677\n",
      "Epoch 10/30\n",
      "149/149 [==============================] - 31s 206ms/step - loss: 0.2728 - accuracy: 0.9016 - val_loss: 1.0737 - val_accuracy: 0.7071\n",
      "Epoch 11/30\n",
      "149/149 [==============================] - 31s 206ms/step - loss: 0.3057 - accuracy: 0.8922 - val_loss: 0.7552 - val_accuracy: 0.7677\n",
      "Epoch 12/30\n",
      "149/149 [==============================] - 31s 205ms/step - loss: 0.2858 - accuracy: 0.8949 - val_loss: 0.8696 - val_accuracy: 0.7879\n",
      "Epoch 13/30\n",
      "149/149 [==============================] - 31s 206ms/step - loss: 0.2170 - accuracy: 0.9299 - val_loss: 0.8989 - val_accuracy: 0.7626\n",
      "Epoch 14/30\n",
      "149/149 [==============================] - 31s 206ms/step - loss: 0.2315 - accuracy: 0.9057 - val_loss: 1.0849 - val_accuracy: 0.7222\n",
      "Epoch 15/30\n",
      "149/149 [==============================] - 31s 206ms/step - loss: 0.2410 - accuracy: 0.9218 - val_loss: 0.8810 - val_accuracy: 0.8030\n",
      "Epoch 16/30\n",
      "149/149 [==============================] - 32s 213ms/step - loss: 0.1748 - accuracy: 0.9326 - val_loss: 1.1243 - val_accuracy: 0.7727\n",
      "Epoch 17/30\n",
      "149/149 [==============================] - 31s 206ms/step - loss: 0.1689 - accuracy: 0.9326 - val_loss: 0.9001 - val_accuracy: 0.8030\n",
      "Epoch 18/30\n",
      "149/149 [==============================] - 30s 204ms/step - loss: 0.1683 - accuracy: 0.9501 - val_loss: 0.9459 - val_accuracy: 0.7929\n",
      "Epoch 19/30\n",
      "149/149 [==============================] - 31s 208ms/step - loss: 0.1516 - accuracy: 0.9501 - val_loss: 0.8993 - val_accuracy: 0.7980\n",
      "Epoch 20/30\n",
      "149/149 [==============================] - 30s 205ms/step - loss: 0.1090 - accuracy: 0.9663 - val_loss: 0.9264 - val_accuracy: 0.8232\n",
      "Epoch 21/30\n",
      "149/149 [==============================] - 31s 207ms/step - loss: 0.1305 - accuracy: 0.9663 - val_loss: 0.9110 - val_accuracy: 0.8384\n",
      "Epoch 22/30\n",
      "149/149 [==============================] - 30s 203ms/step - loss: 0.2340 - accuracy: 0.9326 - val_loss: 1.0349 - val_accuracy: 0.7828\n",
      "Epoch 23/30\n",
      "149/149 [==============================] - 31s 206ms/step - loss: 0.1318 - accuracy: 0.9582 - val_loss: 1.2827 - val_accuracy: 0.7222\n",
      "Epoch 24/30\n",
      "149/149 [==============================] - 31s 206ms/step - loss: 0.1350 - accuracy: 0.9609 - val_loss: 0.9561 - val_accuracy: 0.8030\n",
      "Epoch 25/30\n",
      "149/149 [==============================] - 32s 214ms/step - loss: 0.1174 - accuracy: 0.9569 - val_loss: 0.8951 - val_accuracy: 0.7879\n",
      "Epoch 26/30\n",
      "149/149 [==============================] - 32s 215ms/step - loss: 0.1241 - accuracy: 0.9542 - val_loss: 0.9956 - val_accuracy: 0.7828\n",
      "Epoch 27/30\n",
      "149/149 [==============================] - 31s 209ms/step - loss: 0.0610 - accuracy: 0.9825 - val_loss: 1.3470 - val_accuracy: 0.7525\n",
      "Epoch 28/30\n",
      "149/149 [==============================] - 31s 211ms/step - loss: 0.0982 - accuracy: 0.9663 - val_loss: 1.0093 - val_accuracy: 0.7828\n",
      "Epoch 29/30\n",
      "149/149 [==============================] - 33s 220ms/step - loss: 0.0746 - accuracy: 0.9784 - val_loss: 1.1751 - val_accuracy: 0.7778\n",
      "Epoch 30/30\n",
      "149/149 [==============================] - 31s 209ms/step - loss: 0.0529 - accuracy: 0.9798 - val_loss: 1.1272 - val_accuracy: 0.7980\n"
     ]
    },
    {
     "data": {
      "text/plain": [
       "<keras.callbacks.History at 0x2833ebae050>"
      ]
     },
     "execution_count": 16,
     "metadata": {},
     "output_type": "execute_result"
    }
   ],
   "source": [
    "model.fit_generator(generator=x_train,steps_per_epoch=len(x_train),epochs=30,validation_data=x_test,validation_steps=len(x_test))"
   ]
  },
  {
   "cell_type": "markdown",
   "id": "dd00167c",
   "metadata": {},
   "source": [
    "### Saving the model and writing to json file"
   ]
  },
  {
   "cell_type": "code",
   "execution_count": 19,
   "id": "890d8ac9",
   "metadata": {},
   "outputs": [],
   "source": [
    "model.save('ibm_img_model.h5')\n",
    "model_json = model.to_json()\n",
    "with open(\"model-bw.json\", \"w\") as json_file:\n",
    "  json_file.write(model_json)"
   ]
  },
  {
   "cell_type": "markdown",
   "id": "2560fa24",
   "metadata": {},
   "source": [
    "### Load the saved model"
   ]
  },
  {
   "cell_type": "code",
   "execution_count": 20,
   "id": "1d6101ed",
   "metadata": {},
   "outputs": [],
   "source": [
    "from tensorflow.keras.models import load_model\n",
    "from tensorflow.keras.preprocessing import image\n",
    "model = load_model('ibm_img_model.h5')"
   ]
  },
  {
   "cell_type": "code",
   "execution_count": 21,
   "id": "11db8946",
   "metadata": {},
   "outputs": [
    {
     "data": {
      "text/plain": [
       "{'Cyclone': 0, 'Earthquake': 1, 'Flood': 2, 'Wildfire': 3}"
      ]
     },
     "execution_count": 21,
     "metadata": {},
     "output_type": "execute_result"
    }
   ],
   "source": [
    "x_train.class_indices"
   ]
  },
  {
   "cell_type": "markdown",
   "id": "db72fc63",
   "metadata": {},
   "source": [
    "### Validating with new test inputs "
   ]
  },
  {
   "cell_type": "markdown",
   "id": "c8d9bb76",
   "metadata": {},
   "source": [
    "#### Input 1 "
   ]
  },
  {
   "cell_type": "code",
   "execution_count": 26,
   "id": "d05ef656",
   "metadata": {},
   "outputs": [
    {
     "name": "stdout",
     "output_type": "stream",
     "text": [
      "1/1 [==============================] - 0s 35ms/step\n",
      "Flood\n"
     ]
    }
   ],
   "source": [
    "img = image.load_img('test_set/Flood/1003.jpg',target_size=(64,64))\n",
    "x=image.img_to_array(img)\n",
    "x=np.expand_dims(x,axis=0)\n",
    "index=['Cyclone','Earthquake','Flood','Wildfire']\n",
    "out=np.argmax(model.predict(x),axis=1)\n",
    "print(index[int(out)])"
   ]
  },
  {
   "cell_type": "markdown",
   "id": "0d55917a",
   "metadata": {},
   "source": [
    "#### Input 2"
   ]
  },
  {
   "cell_type": "code",
   "execution_count": 27,
   "id": "a90ded26",
   "metadata": {},
   "outputs": [
    {
     "name": "stdout",
     "output_type": "stream",
     "text": [
      "1/1 [==============================] - 0s 34ms/step\n",
      "Cyclone\n"
     ]
    }
   ],
   "source": [
    "img = image.load_img('test_set/Wildfire/1065.jpg',target_size=(64,64))\n",
    "x=image.img_to_array(img)\n",
    "x=np.expand_dims(x,axis=0)\n",
    "index=['Cyclone','Earthquake','Flood','Wildfire']\n",
    "out=np.argmax(model.predict(x),axis=1)\n",
    "print(index[int(out)])"
   ]
  },
  {
   "cell_type": "markdown",
   "id": "cd35763c",
   "metadata": {},
   "source": [
    "#### Input 3 "
   ]
  },
  {
   "cell_type": "code",
   "execution_count": 28,
   "id": "30bdfed3",
   "metadata": {},
   "outputs": [
    {
     "name": "stdout",
     "output_type": "stream",
     "text": [
      "1/1 [==============================] - 0s 47ms/step\n",
      "Earthquake\n"
     ]
    }
   ],
   "source": [
    "img = image.load_img('test_set/Earthquake/1321.jpg',target_size=(64,64))\n",
    "x=image.img_to_array(img)\n",
    "x=np.expand_dims(x,axis=0)\n",
    "index=['Cyclone','Earthquake','Flood','Wildfire']\n",
    "out=np.argmax(model.predict(x),axis=1)\n",
    "print(index[int(out)])"
   ]
  },
  {
   "cell_type": "markdown",
   "id": "305bd9d3",
   "metadata": {},
   "source": [
    "#### Input 4 "
   ]
  },
  {
   "cell_type": "code",
   "execution_count": 29,
   "id": "a0707e1a",
   "metadata": {},
   "outputs": [
    {
     "name": "stdout",
     "output_type": "stream",
     "text": [
      "1/1 [==============================] - 0s 58ms/step\n",
      "Cyclone\n"
     ]
    }
   ],
   "source": [
    "img = image.load_img('test_set/Cyclone/914.jpg',target_size=(64,64))\n",
    "x=image.img_to_array(img)\n",
    "x=np.expand_dims(x,axis=0)\n",
    "index=['Cyclone','Earthquake','Flood','Wildfire']\n",
    "out=np.argmax(model.predict(x),axis=1)\n",
    "print(index[int(out)])"
   ]
  }
 ],
 "metadata": {
  "kernelspec": {
   "display_name": "Python 3 (ipykernel)",
   "language": "python",
   "name": "python3"
  },
  "language_info": {
   "codemirror_mode": {
    "name": "ipython",
    "version": 3
   },
   "file_extension": ".py",
   "mimetype": "text/x-python",
   "name": "python",
   "nbconvert_exporter": "python",
   "pygments_lexer": "ipython3",
   "version": "3.10.6"
  }
 },
 "nbformat": 4,
 "nbformat_minor": 5
}
