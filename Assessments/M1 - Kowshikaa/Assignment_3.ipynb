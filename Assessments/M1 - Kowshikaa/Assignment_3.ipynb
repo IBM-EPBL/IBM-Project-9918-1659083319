{
 "cells": [
  {
   "cell_type": "markdown",
   "id": "73e8b9ed",
   "metadata": {},
   "source": [
    "# Importing Libraries"
   ]
  },
  {
   "cell_type": "code",
   "execution_count": 49,
   "id": "2bf7195a",
   "metadata": {},
   "outputs": [],
   "source": [
    "import tensorflow as tf\n",
    "import numpy as np\n",
    "\n",
    "from keras.preprocessing.image import ImageDataGenerator"
   ]
  },
  {
   "cell_type": "markdown",
   "id": "a55e9a45",
   "metadata": {},
   "source": [
    "# Image augmentation"
   ]
  },
  {
   "cell_type": "markdown",
   "id": "d0b97452",
   "metadata": {},
   "source": [
    "## Training set"
   ]
  },
  {
   "cell_type": "code",
   "execution_count": 50,
   "id": "2b07be37",
   "metadata": {},
   "outputs": [
    {
     "name": "stdout",
     "output_type": "stream",
     "text": [
      "Found 4317 images belonging to 5 classes.\n"
     ]
    }
   ],
   "source": [
    "train_datagen = ImageDataGenerator(\n",
    "    rescale=1./255, \n",
    "    shear_range=0.2, \n",
    "    zoom_range=0.2, \n",
    "    horizontal_flip=True)\n",
    "training_set = train_datagen.flow_from_directory('train_set', target_size=(64,64), batch_size=32, class_mode='categorical')"
   ]
  },
  {
   "cell_type": "markdown",
   "id": "08e20cce",
   "metadata": {},
   "source": [
    "## Testing set"
   ]
  },
  {
   "cell_type": "code",
   "execution_count": 51,
   "id": "beb183c2",
   "metadata": {},
   "outputs": [
    {
     "name": "stdout",
     "output_type": "stream",
     "text": [
      "Found 936 images belonging to 5 classes.\n"
     ]
    }
   ],
   "source": [
    "test_datagen = ImageDataGenerator(rescale=1./255)\n",
    "test_set = test_datagen.flow_from_directory('test_set', target_size=(64,64), batch_size=32, class_mode='categorical')"
   ]
  },
  {
   "cell_type": "markdown",
   "id": "cd451ef9",
   "metadata": {},
   "source": [
    "# Creating a CNN Model"
   ]
  },
  {
   "cell_type": "code",
   "execution_count": 52,
   "id": "14e92d44",
   "metadata": {},
   "outputs": [],
   "source": [
    "cnn = tf.keras.models.Sequential()"
   ]
  },
  {
   "cell_type": "markdown",
   "id": "806712e3",
   "metadata": {},
   "source": [
    "# Adding layers"
   ]
  },
  {
   "cell_type": "markdown",
   "id": "409f439c",
   "metadata": {},
   "source": [
    "## Convolution"
   ]
  },
  {
   "cell_type": "code",
   "execution_count": 53,
   "id": "ab7b839d",
   "metadata": {},
   "outputs": [],
   "source": [
    "cnn.add(tf.keras.layers.Conv2D(filters=64, kernel_size=3, activation='relu', input_shape=[64,64,3]))"
   ]
  },
  {
   "cell_type": "markdown",
   "id": "679f4160",
   "metadata": {},
   "source": [
    "## Maxpooling"
   ]
  },
  {
   "cell_type": "code",
   "execution_count": 54,
   "id": "72704ecb",
   "metadata": {},
   "outputs": [],
   "source": [
    "cnn.add(tf.keras.layers.MaxPool2D(pool_size=2, strides=2))"
   ]
  },
  {
   "cell_type": "markdown",
   "id": "6ace456c",
   "metadata": {},
   "source": [
    "## Flattening"
   ]
  },
  {
   "cell_type": "code",
   "execution_count": 55,
   "id": "e9f33881",
   "metadata": {},
   "outputs": [],
   "source": [
    "cnn.add(tf.keras.layers.Dropout(0.5))\n",
    "cnn.add(tf.keras.layers.Flatten())"
   ]
  },
  {
   "cell_type": "markdown",
   "id": "990d4bcb",
   "metadata": {},
   "source": [
    "## Dense"
   ]
  },
  {
   "cell_type": "markdown",
   "id": "f5210455",
   "metadata": {},
   "source": [
    "### Hidden layers"
   ]
  },
  {
   "cell_type": "code",
   "execution_count": 56,
   "id": "c14be383",
   "metadata": {},
   "outputs": [],
   "source": [
    "cnn.add(tf.keras.layers.Dense(units=128, activation='relu'))"
   ]
  },
  {
   "cell_type": "markdown",
   "id": "1829ae03",
   "metadata": {},
   "source": [
    "### Output layer"
   ]
  },
  {
   "cell_type": "code",
   "execution_count": 57,
   "id": "9c03448a",
   "metadata": {},
   "outputs": [],
   "source": [
    "cnn.add(tf.keras.layers.Dense(units=5, activation='softmax'))"
   ]
  },
  {
   "cell_type": "markdown",
   "id": "b38353e3",
   "metadata": {},
   "source": [
    "# Compiling the model"
   ]
  },
  {
   "cell_type": "code",
   "execution_count": 58,
   "id": "d24b9c43",
   "metadata": {},
   "outputs": [],
   "source": [
    "cnn.compile(optimizer='adam',loss='categorical_crossentropy', metrics=['accuracy'])"
   ]
  },
  {
   "cell_type": "markdown",
   "id": "f50fd923",
   "metadata": {},
   "source": [
    "# Fitting the model"
   ]
  },
  {
   "cell_type": "code",
   "execution_count": 59,
   "id": "3179f9ba",
   "metadata": {},
   "outputs": [
    {
     "name": "stdout",
     "output_type": "stream",
     "text": [
      "Epoch 1/30\n",
      "135/135 [==============================] - 49s 359ms/step - loss: 1.3457 - accuracy: 0.4760 - val_loss: 1.0519 - val_accuracy: 0.5844\n",
      "Epoch 2/30\n",
      "135/135 [==============================] - 48s 356ms/step - loss: 1.0621 - accuracy: 0.5738 - val_loss: 0.9151 - val_accuracy: 0.6400\n",
      "Epoch 3/30\n",
      "135/135 [==============================] - 49s 361ms/step - loss: 0.9928 - accuracy: 0.6152 - val_loss: 0.9985 - val_accuracy: 0.6421\n",
      "Epoch 4/30\n",
      "135/135 [==============================] - 48s 358ms/step - loss: 0.9321 - accuracy: 0.6419 - val_loss: 0.8431 - val_accuracy: 0.6848\n",
      "Epoch 5/30\n",
      "135/135 [==============================] - 48s 359ms/step - loss: 0.8602 - accuracy: 0.6692 - val_loss: 0.8235 - val_accuracy: 0.7073\n",
      "Epoch 6/30\n",
      "135/135 [==============================] - 54s 398ms/step - loss: 0.8336 - accuracy: 0.6873 - val_loss: 0.7040 - val_accuracy: 0.7468\n",
      "Epoch 7/30\n",
      "135/135 [==============================] - 53s 393ms/step - loss: 0.7813 - accuracy: 0.6993 - val_loss: 0.7201 - val_accuracy: 0.7297\n",
      "Epoch 8/30\n",
      "135/135 [==============================] - 48s 354ms/step - loss: 0.7664 - accuracy: 0.7088 - val_loss: 0.6730 - val_accuracy: 0.7585\n",
      "Epoch 9/30\n",
      "135/135 [==============================] - 47s 345ms/step - loss: 0.7477 - accuracy: 0.7153 - val_loss: 0.7443 - val_accuracy: 0.6955\n",
      "Epoch 10/30\n",
      "135/135 [==============================] - 47s 347ms/step - loss: 0.7133 - accuracy: 0.7292 - val_loss: 0.7309 - val_accuracy: 0.7030\n",
      "Epoch 11/30\n",
      "135/135 [==============================] - 47s 347ms/step - loss: 0.7018 - accuracy: 0.7371 - val_loss: 0.5655 - val_accuracy: 0.7938\n",
      "Epoch 12/30\n",
      "135/135 [==============================] - 48s 353ms/step - loss: 0.6545 - accuracy: 0.7501 - val_loss: 0.6275 - val_accuracy: 0.7692\n",
      "Epoch 13/30\n",
      "135/135 [==============================] - 48s 357ms/step - loss: 0.6407 - accuracy: 0.7630 - val_loss: 0.5422 - val_accuracy: 0.7895\n",
      "Epoch 14/30\n",
      "135/135 [==============================] - 48s 356ms/step - loss: 0.6285 - accuracy: 0.7677 - val_loss: 0.5220 - val_accuracy: 0.8024\n",
      "Epoch 15/30\n",
      "135/135 [==============================] - 48s 357ms/step - loss: 0.5902 - accuracy: 0.7820 - val_loss: 0.4745 - val_accuracy: 0.8344\n",
      "Epoch 16/30\n",
      "135/135 [==============================] - 48s 357ms/step - loss: 0.5664 - accuracy: 0.7864 - val_loss: 0.4552 - val_accuracy: 0.8312\n",
      "Epoch 17/30\n",
      "135/135 [==============================] - 48s 352ms/step - loss: 0.5890 - accuracy: 0.7799 - val_loss: 0.4519 - val_accuracy: 0.8387\n",
      "Epoch 18/30\n",
      "135/135 [==============================] - 48s 356ms/step - loss: 0.5315 - accuracy: 0.8045 - val_loss: 0.3634 - val_accuracy: 0.8771\n",
      "Epoch 19/30\n",
      "135/135 [==============================] - 48s 355ms/step - loss: 0.5220 - accuracy: 0.8094 - val_loss: 0.4334 - val_accuracy: 0.8462\n",
      "Epoch 20/30\n",
      "135/135 [==============================] - 49s 360ms/step - loss: 0.5012 - accuracy: 0.8177 - val_loss: 0.2974 - val_accuracy: 0.9081\n",
      "Epoch 21/30\n",
      "135/135 [==============================] - 49s 361ms/step - loss: 0.4922 - accuracy: 0.8172 - val_loss: 0.3604 - val_accuracy: 0.8761\n",
      "Epoch 22/30\n",
      "135/135 [==============================] - 47s 348ms/step - loss: 0.4854 - accuracy: 0.8249 - val_loss: 0.3735 - val_accuracy: 0.8729\n",
      "Epoch 23/30\n",
      "135/135 [==============================] - 47s 349ms/step - loss: 0.4688 - accuracy: 0.8242 - val_loss: 0.3613 - val_accuracy: 0.8697\n",
      "Epoch 24/30\n",
      "135/135 [==============================] - 51s 377ms/step - loss: 0.4494 - accuracy: 0.8385 - val_loss: 0.3058 - val_accuracy: 0.8921\n",
      "Epoch 25/30\n",
      "135/135 [==============================] - 48s 355ms/step - loss: 0.4352 - accuracy: 0.8392 - val_loss: 0.3078 - val_accuracy: 0.8825\n",
      "Epoch 26/30\n",
      "135/135 [==============================] - 49s 361ms/step - loss: 0.4327 - accuracy: 0.8385 - val_loss: 0.2417 - val_accuracy: 0.9284\n",
      "Epoch 27/30\n",
      "135/135 [==============================] - 47s 349ms/step - loss: 0.3860 - accuracy: 0.8580 - val_loss: 0.2624 - val_accuracy: 0.9113\n",
      "Epoch 28/30\n",
      "135/135 [==============================] - 44s 323ms/step - loss: 0.3852 - accuracy: 0.8603 - val_loss: 0.3074 - val_accuracy: 0.8974\n",
      "Epoch 29/30\n",
      "135/135 [==============================] - 41s 307ms/step - loss: 0.3863 - accuracy: 0.8603 - val_loss: 0.2073 - val_accuracy: 0.9188\n",
      "Epoch 30/30\n",
      "135/135 [==============================] - 45s 335ms/step - loss: 0.3855 - accuracy: 0.8575 - val_loss: 0.2288 - val_accuracy: 0.9274\n"
     ]
    },
    {
     "data": {
      "text/plain": [
       "<keras.callbacks.History at 0x1ea896885e0>"
      ]
     },
     "execution_count": 59,
     "metadata": {},
     "output_type": "execute_result"
    }
   ],
   "source": [
    "cnn.fit(x=training_set, validation_data=test_set, epochs=30)"
   ]
  },
  {
   "cell_type": "markdown",
   "id": "ad17aec5",
   "metadata": {},
   "source": [
    "# Saving the model"
   ]
  },
  {
   "cell_type": "code",
   "execution_count": 60,
   "id": "72779577",
   "metadata": {},
   "outputs": [
    {
     "name": "stdout",
     "output_type": "stream",
     "text": [
      "INFO:tensorflow:Assets written to: flower_model\\assets\n"
     ]
    }
   ],
   "source": [
    "cnn.save(\"flower_model\")"
   ]
  },
  {
   "cell_type": "markdown",
   "id": "5c7d98d3",
   "metadata": {},
   "source": [
    "# Testing the model"
   ]
  },
  {
   "cell_type": "code",
   "execution_count": 61,
   "id": "74cbcfbc",
   "metadata": {},
   "outputs": [],
   "source": [
    "from keras.preprocessing import image\n",
    "test_image = image.load_img('new_inputs/tulip.jfif', target_size=(64,64))\n",
    "test_image = image.img_to_array(test_image)\n",
    "test_image = np.expand_dims(test_image, axis=0)\n",
    "result = cnn.predict(test_image)"
   ]
  },
  {
   "cell_type": "code",
   "execution_count": 62,
   "id": "fcbdd957",
   "metadata": {},
   "outputs": [
    {
     "data": {
      "text/plain": [
       "{'daisy': 0, 'dandelion': 1, 'rose': 2, 'sunflower': 3, 'tulip': 4}"
      ]
     },
     "execution_count": 62,
     "metadata": {},
     "output_type": "execute_result"
    }
   ],
   "source": [
    "training_set.class_indices"
   ]
  },
  {
   "cell_type": "code",
   "execution_count": 63,
   "id": "9d0ee3d4",
   "metadata": {},
   "outputs": [
    {
     "name": "stdout",
     "output_type": "stream",
     "text": [
      "Tulip\n"
     ]
    }
   ],
   "source": [
    "if result[0][0]==1:\n",
    "    print('Daisy')\n",
    "elif result[0][1]==1:\n",
    "    print('Dandelion')\n",
    "elif result[0][2]==1:\n",
    "    print('Rose')\n",
    "elif result[0][3]==1:\n",
    "    print('Sunflower')\n",
    "elif result[0][4]==1:\n",
    "    print('Tulip')"
   ]
  }
 ],
 "metadata": {
  "kernelspec": {
   "display_name": "Python 3 (ipykernel)",
   "language": "python",
   "name": "python3"
  },
  "language_info": {
   "codemirror_mode": {
    "name": "ipython",
    "version": 3
   },
   "file_extension": ".py",
   "mimetype": "text/x-python",
   "name": "python",
   "nbconvert_exporter": "python",
   "pygments_lexer": "ipython3",
   "version": "3.9.12"
  }
 },
 "nbformat": 4,
 "nbformat_minor": 5
}
